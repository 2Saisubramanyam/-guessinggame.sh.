{
  "nbformat": 4,
  "nbformat_minor": 0,
  "metadata": {
    "colab": {
      "name": "ElectionSentimentAnalysis.ipynb",
      "provenance": [],
      "authorship_tag": "ABX9TyMPv9/r+hxPZvXCHFXwXZDj",
      "include_colab_link": true
    },
    "kernelspec": {
      "name": "python3",
      "display_name": "Python 3"
    }
  },
  "cells": [
    {
      "cell_type": "markdown",
      "metadata": {
        "id": "view-in-github",
        "colab_type": "text"
      },
      "source": [
        "<a href=\"https://colab.research.google.com/github/2Saisubramanyam/-guessinggame.sh./blob/master/ElectionSentimentAnalysis.ipynb\" target=\"_parent\"><img src=\"https://colab.research.google.com/assets/colab-badge.svg\" alt=\"Open In Colab\"/></a>"
      ]
    },
    {
      "cell_type": "code",
      "metadata": {
        "id": "QrEexAPDFeiR"
      },
      "source": [
        "import tweepy\n",
        "from textblob import TextBlob\n",
        "import matplotlib.pyplot as plt\n"
      ],
      "execution_count": 20,
      "outputs": []
    },
    {
      "cell_type": "code",
      "metadata": {
        "id": "PAw_yIrgO-wf"
      },
      "source": [
        "a=tweepy.OAuthHandler(ck,cks)\n",
        "a.set_access_token(at,ats)\n"
      ],
      "execution_count": 4,
      "outputs": []
    },
    {
      "cell_type": "code",
      "metadata": {
        "id": "WCDybFMmPZY8"
      },
      "source": [
        "api = tweepy.API(a)"
      ],
      "execution_count": 5,
      "outputs": []
    },
    {
      "cell_type": "code",
      "metadata": {
        "id": "u7uY-c6pPeqx"
      },
      "source": [
        "public_tweets = api.search('Trump')\n",
        "public_tweets2 = api.search('joe biden')"
      ],
      "execution_count": 8,
      "outputs": []
    },
    {
      "cell_type": "markdown",
      "metadata": {
        "id": "Eg948yklU9No"
      },
      "source": [
        "Tweets on Trumph"
      ]
    },
    {
      "cell_type": "code",
      "metadata": {
        "id": "o3j8rrgfPkUM",
        "outputId": "3c30ee73-adf4-4bd3-918c-18916fd078ea",
        "colab": {
          "base_uri": "https://localhost:8080/"
        }
      },
      "source": [
        "positive_of_trumph=0\n",
        "n=0\n",
        "for tweet in public_tweets:\n",
        "  print(tweet.text)\n",
        "  analysis = TextBlob(tweet.text)\n",
        "  print(analysis.sentiment)\n",
        "  if(analysis.sentiment[0]>0):\n",
        "    positive_of_trumph+=1\n",
        "  if(analysis.sentiment[0]<0):\n",
        "    n+=1\n",
        "print(positive_of_trumph)\n",
        "print(n)"
      ],
      "execution_count": 21,
      "outputs": [
        {
          "output_type": "stream",
          "text": [
            "Biden-264 \n",
            "Trump-214 \n",
            "Me- sick and tired\n",
            "Sentiment(polarity=-0.5571428571428572, subjectivity=0.7785714285714285)\n",
            "RT @AlanLopesRio: Preparem-se para 2022, o golpe já foi tramado: em uma live agora pouco, Rodrigo Maia afirmou que o presidente Bolsonaro v…\n",
            "Sentiment(polarity=0.13636363636363635, subjectivity=0.5)\n",
            "@medoedeliriobr O chefe das forças armadas devia ir na TV pedir a saída imediata do Trump, já que eles dizem que es… https://t.co/kcwHTiyrxl\n",
            "Sentiment(polarity=0.0, subjectivity=0.0)\n",
            "RT @ScottHech: These Trump people are dancing (terribly) to Rage Against the Machine’s “Killing in the Name.” A song about resistance to po…\n",
            "Sentiment(polarity=-1.0, subjectivity=1.0)\n",
            "RT @enrich1212: @megeetsa @billshoemaker21 Trump would sooner kill everyone else in the world, \n",
            "so he can remain tilting. \n",
            "*I mean, standin…\n",
            "Sentiment(polarity=-0.3125, subjectivity=0.6875)\n",
            "Il precedente boliviano del 2019 giustifica le accuse di brogli di Trump https://t.co/F8nQMgYfXT\n",
            "Sentiment(polarity=0.0, subjectivity=0.0)\n",
            "RT @AleCuore_: Yo estoy tranquila por que gane Biden o Trump, AMLO sigue siendo el presidente de México 🇲🇽\n",
            "#AMLOLujoDePresidente\n",
            "Sentiment(polarity=0.0, subjectivity=0.0)\n",
            "RT @paulsperry_: BREAKING: Michigan county misdirected 1,000s of Trump votes to Biden\n",
            "https://t.co/WKAIDTc6in\n",
            "Sentiment(polarity=0.0, subjectivity=0.0)\n",
            "RT @KarenAttiah: If this were Africa, western leaders would be flying envoys over to Trump to tell him to respect democracy and concede...…\n",
            "Sentiment(polarity=0.0, subjectivity=0.0)\n",
            "@MariaFdaCabal Esperemos que a @JoeBiden https://t.co/NoULPGB9Bx le olvide que el gobierno colombiano y todo el uri… https://t.co/bxLLRagtnJ\n",
            "Sentiment(polarity=0.0, subjectivity=0.0)\n",
            "Moody's assessment of the Biden taxplan: The Macroeconomic Consequences: Trump vs. Biden.\n",
            "https://t.co/7tOMTwEUrP\n",
            "Sentiment(polarity=0.0, subjectivity=0.0)\n",
            "RT @mqbrady: We may not have a winner yet, but it’s clear many Trump supporters are aware of the way this race is heading. \n",
            "\n",
            "There are hund…\n",
            "Sentiment(polarity=0.2833333333333333, subjectivity=0.37777777777777777)\n",
            "Trump supporters stop being such snowflakes. You lose. There is no \"huge fraud\". You have zeeo evidence and all the… https://t.co/uwn5ACx3gK\n",
            "Sentiment(polarity=-0.10000000000000002, subjectivity=0.7)\n",
            "RT @SenJohnKennedy: Looks like we're going into overtime. It doesn't weaken democracy to insist elections be free and fair. \n",
            "\n",
            "The courts sh…\n",
            "Sentiment(polarity=0.55, subjectivity=0.8500000000000001)\n",
            "RT @NationAfrica: Philadelphia mayor tells President Trump to put his big boy pants on and concede https://t.co/8ee4c7tMsg\n",
            "Sentiment(polarity=0.0, subjectivity=0.1)\n",
            "3\n",
            "4\n"
          ],
          "name": "stdout"
        }
      ]
    },
    {
      "cell_type": "markdown",
      "metadata": {
        "id": "xM4HFo6fU2Af"
      },
      "source": [
        "Tweets on biden"
      ]
    },
    {
      "cell_type": "code",
      "metadata": {
        "id": "q2S9-3xSQKTj",
        "outputId": "747127bd-d549-47dc-9416-f1f2f736c1d2",
        "colab": {
          "base_uri": "https://localhost:8080/"
        }
      },
      "source": [
        "positive_of_biden=0\n",
        "for tweet in public_tweets2:\n",
        "  print(tweet.text)\n",
        "  analysis2 = TextBlob(tweet.text)\n",
        "  print(analysis.sentiment)\n",
        "  if(analysis.sentiment[0]>0):\n",
        "    positive_of_biden+=1\n",
        "print(positive_of_biden)"
      ],
      "execution_count": 22,
      "outputs": [
        {
          "output_type": "stream",
          "text": [
            "RT @ABC: .@GStephanopoulos: “How do you want Joe Biden to pay you back?\n",
            "\n",
            "Rep. James Clyburn: “Pay me back? I don’t want anything out of thi…\n",
            "Sentiment(polarity=0.0, subjectivity=0.1)\n",
            "RT @AndySwan: Joe Biden was so inspiring that all the 90+ year olds in Pennsylvania registered to vote this year, setting a huge record! ht…\n",
            "Sentiment(polarity=0.0, subjectivity=0.1)\n",
            "RT @Channel4News: \"74 million votes. That's more than any presidential ticket has ever gotten in the history of the United States.\"\n",
            "\n",
            "Joe Bi…\n",
            "Sentiment(polarity=0.0, subjectivity=0.1)\n",
            "RT @DrummerFromFife: Just seen Joe Biden's TV address. I don't personally like him, but he doesn't sound senile at all. He sounds like a re…\n",
            "Sentiment(polarity=0.0, subjectivity=0.1)\n",
            "Incendiary texts traced to outfit run by top Trump aide https://t.co/JuRrdfpP22\n",
            "Sentiment(polarity=0.0, subjectivity=0.1)\n",
            "RT @sozcumuratoglu: TCMB başkanının kovulmasıyla ilgili nihayet mantıklı bir açıklama buldum!🧐\n",
            "Reza Zarrab'ın rüşvet olaylarında Halkbank'ı…\n",
            "Sentiment(polarity=0.0, subjectivity=0.1)\n",
            "RT @jaketapper: AP: A texting company run by Trump campaign’s ⁦@GaryCoby⁩ “sent out thousands of targeted, anonymous text messages urging s…\n",
            "Sentiment(polarity=0.0, subjectivity=0.1)\n",
            "RT @joshtpm: Incitement texts sending Trump supporters to ballot counting center traced to the Trump campaign itself. https://t.co/3aV4Gktm…\n",
            "Sentiment(polarity=0.0, subjectivity=0.1)\n",
            "RT @AlbuquerqueDavy: A vitória de Joe Biden é a “cartada mestre” da esquerda pra voltar ao poder nos EUA e fazer com que o mesmo cenário ac…\n",
            "Sentiment(polarity=0.0, subjectivity=0.1)\n",
            "RT @oncetwicebrasil: 🗞 - Depois de viralizar em edits relacionados ao Joe Biden, 'Feel Special' chegou a aparecer em uma notícia do tópico…\n",
            "Sentiment(polarity=0.0, subjectivity=0.1)\n",
            "RT @R_Kae: I want Joe Biden, need Joe Biden or whatever TI said 😩\n",
            "Sentiment(polarity=0.0, subjectivity=0.1)\n",
            "RT @joshtpm: Incitement texts sending Trump supporters to ballot counting center traced to the Trump campaign itself. https://t.co/3aV4Gktm…\n",
            "Sentiment(polarity=0.0, subjectivity=0.1)\n",
            "RT @thebradfordfile: Joe Biden has 74 million votes and Democrats did not flip one single state house. Which means a TON of voters only fil…\n",
            "Sentiment(polarity=0.0, subjectivity=0.1)\n",
            "8\n"
          ],
          "name": "stdout"
        }
      ]
    },
    {
      "cell_type": "code",
      "metadata": {
        "id": "nUi_77ggQpPb",
        "outputId": "b3080edb-13ca-4c98-9efd-b889c1ccca92",
        "colab": {
          "base_uri": "https://localhost:8080/",
          "height": 640
        }
      },
      "source": [
        "fig = plt.figure()\n",
        "ax = fig.add_axes([0,0,2,2])\n",
        "leaders = ['Trumph','Biden']\n",
        "results = [positive_of_trumph,positive_of_biden]\n",
        "ans = ax.bar(leaders,results, color ='b')\n",
        "ans[0].set_color('r')\n",
        "plt.title('2020 US elections analysis')\n",
        "plt.show()"
      ],
      "execution_count": 36,
      "outputs": [
        {
          "output_type": "display_data",
          "data": {
            "image/png": "[encoded data removed]",
            "text/plain": [
              "<Figure size 432x288 with 1 Axes>"
            ]
          },
          "metadata": {
            "tags": [],
            "needs_background": "light"
          }
        }
      ]
    },
    {
      "cell_type": "code",
      "metadata": {
        "id": "lvrI1xSES4pp"
      },
      "source": [
        ""
      ],
      "execution_count": null,
      "outputs": []
    }
  ]
}